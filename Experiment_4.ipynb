{
 "cells": [
  {
   "cell_type": "code",
   "execution_count": 5,
   "id": "7cc6e197",
   "metadata": {},
   "outputs": [
    {
     "name": "stderr",
     "output_type": "stream",
     "text": [
      "[nltk_data] Downloading package words to\n",
      "[nltk_data]     C:\\Users\\2020s\\AppData\\Roaming\\nltk_data...\n",
      "[nltk_data]   Package words is already up-to-date!\n"
     ]
    }
   ],
   "source": [
    "import nltk\n",
    "\n",
    "nltk.download('words')\n",
    "\n",
    "from nltk.corpus import words"
   ]
  },
  {
   "cell_type": "code",
   "execution_count": 47,
   "id": "055b6fb2",
   "metadata": {},
   "outputs": [
    {
     "name": "stdout",
     "output_type": "stream",
     "text": [
      "Original Text: callable\n",
      "Morphological Analysis:\n",
      "    Prefix: call, Suffix: able\n",
      "Generated Word : callable\n"
     ]
    }
   ],
   "source": [
    "text = \"callable\"\n",
    "\n",
    "morphemes = []\n",
    "\n",
    "for i in range(1, len(text)):\n",
    "    prefix = text[:i]\n",
    "    suffix = text[i:]\n",
    "    \n",
    "    if prefix in words.words() and suffix in words.words():\n",
    "        morphemes.append((prefix, suffix)) \n",
    "        #appends the pair (prefix, suffix) as a tuple to the morphemes list\n",
    "    \n",
    "print(\"Original Text:\", text)\n",
    "\n",
    "print(\"Morphological Analysis:\")\n",
    "for prefix, suffix in morphemes:\n",
    "    print(f\"    Prefix: {prefix}, Suffix: {suffix}\")\n",
    "\n",
    "#word generation\n",
    "for (prefix, suffix) in morphemes:\n",
    "    generated_words = prefix + suffix\n",
    "\n",
    "print(\"Generated Word : \" + generated_words)"
   ]
  },
  {
   "cell_type": "code",
   "execution_count": null,
   "id": "528458a1",
   "metadata": {},
   "outputs": [],
   "source": []
  }
 ],
 "metadata": {
  "kernelspec": {
   "display_name": "Python 3 (ipykernel)",
   "language": "python",
   "name": "python3"
  },
  "language_info": {
   "codemirror_mode": {
    "name": "ipython",
    "version": 3
   },
   "file_extension": ".py",
   "mimetype": "text/x-python",
   "name": "python",
   "nbconvert_exporter": "python",
   "pygments_lexer": "ipython3",
   "version": "3.9.13"
  }
 },
 "nbformat": 4,
 "nbformat_minor": 5
}
