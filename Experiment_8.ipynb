{
  "nbformat": 4,
  "nbformat_minor": 0,
  "metadata": {
    "colab": {
      "provenance": []
    },
    "kernelspec": {
      "name": "python3",
      "display_name": "Python 3"
    },
    "language_info": {
      "name": "python"
    }
  },
  "cells": [
    {
      "cell_type": "code",
      "execution_count": 11,
      "metadata": {
        "id": "W4W8JZvfTstv"
      },
      "outputs": [],
      "source": [
        "import spacy\n",
        "\n",
        "nlp=spacy.load(\"en_core_web_sm\")\n",
        "\n",
        "text= \"\"\"\n",
        "\n",
        "India, officially the Republic of India (Bharat Gagarajya), is a country in South Asia. It is the seventh-largest country by area; the most populous country as of June 2023; and from the time of its Independence in 1947. Bounded by the Indian Ocean on the south, the Arabian Sea on the southwest, and the Bay of Bengal on the southeast, it shares land t In the Indian Ocean, India is in the vicinity of Sri Lanka and the Maldives; its Andaman and Nicobar Islands share a maritime border\"\"\"\n",
        "\n"
      ]
    },
    {
      "cell_type": "code",
      "source": [
        "label_mapping ={ \"PERSON\": \"Person\",\n",
        "\n",
        "\"ORG\":\"Organization\", \"PE\": \"Geopolitical Entity\",\n",
        "\n",
        "\"DATE\": \"Date\",\n",
        "\n",
        "\"CARDINAL\": \"Cardinal Number\", \"LOC\": \"Location\",\n",
        "}\n",
        "doc = nlp(text)\n"
      ],
      "metadata": {
        "id": "uoo2CqDkUO1I"
      },
      "execution_count": 12,
      "outputs": []
    },
    {
      "cell_type": "code",
      "source": [
        "\n",
        "entities=[(ent.text, label_mapping.get(ent.label_, ent.label_)) for ent in doc.ents]\n",
        "\n",
        "for entity, label in entities:\n",
        "  print(f\"Entity: {entity}, Label: {label}\")"
      ],
      "metadata": {
        "colab": {
          "base_uri": "https://localhost:8080/"
        },
        "id": "I-gNTEn_UWKQ",
        "outputId": "56d21e8a-1395-4e87-90a5-95403bfb83d5"
      },
      "execution_count": 14,
      "outputs": [
        {
          "output_type": "stream",
          "name": "stdout",
          "text": [
            "Entity: India, Label: GPE\n",
            "Entity: the Republic of India, Label: GPE\n",
            "Entity: South Asia, Label: Location\n",
            "Entity: seventh, Label: ORDINAL\n",
            "Entity: June 2023, Label: Date\n",
            "Entity: 1947, Label: Date\n",
            "Entity: the Indian Ocean, Label: Location\n",
            "Entity: the Arabian Sea, Label: Location\n",
            "Entity: the Bay of Bengal, Label: Location\n",
            "Entity: the Indian Ocean, Label: Location\n",
            "Entity: India, Label: GPE\n",
            "Entity: Sri Lanka, Label: GPE\n",
            "Entity: Maldives, Label: GPE\n",
            "Entity: Andaman, Label: PRODUCT\n",
            "Entity: Nicobar Islands, Label: Organization\n"
          ]
        }
      ]
    },
    {
      "cell_type": "code",
      "source": [],
      "metadata": {
        "id": "UYUd0FcoUXeD"
      },
      "execution_count": null,
      "outputs": []
    }
  ]
}