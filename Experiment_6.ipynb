{
 "cells": [
  {
   "cell_type": "code",
   "execution_count": 9,
   "id": "17e85d3c",
   "metadata": {},
   "outputs": [
    {
     "name": "stdout",
     "output_type": "stream",
     "text": [
      "[('Two', 'CD'), ('roads', 'NNS'), ('diverged', 'VBN'), ('in', 'IN'), ('a', 'DT'), ('yellow', 'JJ'), ('wood', 'NN'), (',', ','), ('And', 'CC'), ('sorry', 'NN'), ('I', 'PRP'), ('could', 'MD'), ('not', 'RB'), ('travel', 'VB'), ('both', 'DT'), ('And', 'CC'), ('be', 'VB'), ('one', 'CD'), ('traveler', 'NN'), (',', ','), ('long', 'RB'), ('I', 'PRP'), ('stood', 'VBD'), ('And', 'CC'), ('looked', 'VBD'), ('down', 'RB'), ('one', 'CD'), ('as', 'RB'), ('far', 'RB'), ('as', 'IN'), ('I', 'PRP'), ('could', 'MD'), ('To', 'TO'), ('where', 'WRB'), ('it', 'PRP'), ('bent', 'VBD'), ('in', 'IN'), ('the', 'DT'), ('undergrowth', 'NN')]\n"
     ]
    },
    {
     "name": "stderr",
     "output_type": "stream",
     "text": [
      "[nltk_data] Downloading package punkt to\n",
      "[nltk_data]     C:\\Users\\2020s\\AppData\\Roaming\\nltk_data...\n",
      "[nltk_data]   Package punkt is already up-to-date!\n",
      "[nltk_data] Downloading package averaged_perceptron_tagger to\n",
      "[nltk_data]     C:\\Users\\2020s\\AppData\\Roaming\\nltk_data...\n",
      "[nltk_data]   Package averaged_perceptron_tagger is already up-to-\n",
      "[nltk_data]       date!\n"
     ]
    }
   ],
   "source": [
    "import nltk\n",
    "from nltk.tokenize import word_tokenize\n",
    "nltk.download('punkt')\n",
    "nltk.download('averaged_perceptron_tagger')\n",
    "\n",
    "def pos_tagger(text):\n",
    "    words = word_tokenize(text)\n",
    "    \n",
    "    tagged_words = nltk.pos_tag(words)\n",
    "    \n",
    "    return tagged_words\n",
    "\n",
    "sent = '''Two roads diverged in a yellow wood,\n",
    "And sorry I could not travel both\n",
    "And be one traveler, long I stood\n",
    "And looked down one as far as I could\n",
    "To where it bent in the undergrowth'''\n",
    "\n",
    "tags = pos_tagger(sent)\n",
    "print(tags)"
   ]
  },
  {
   "cell_type": "code",
   "execution_count": 29,
   "id": "391cb846",
   "metadata": {},
   "outputs": [
    {
     "name": "stdout",
     "output_type": "stream",
     "text": [
      "Then/NN took/NN the/DT other,/NN as/NN just/NN as/NN fair,/NN And/NN having/VBG perhaps/NN the/DT better/JJ claim,/NN Because/NN it/PRP was/NN grassy/NN and/NN wanted/VBD wear;/NN Though/NN as/NN for/NN that/NN the/DT passing/VBG there/NN Had/NN worn/NN them/PRP really/NN about/NN the/DT same/NN "
     ]
    }
   ],
   "source": [
    "def pos_tag(text):\n",
    "    words = text.split()\n",
    "    tagged_words = []\n",
    "\n",
    "    for word in words:\n",
    "        if word.endswith(\"ing\"):\n",
    "            pos = \"VBG\" # Verb, Gerund/Present Participle\n",
    "        elif word.lower() in [\"i\", \"me\", \"my\", \"mine\", \"myself\", \"you\", \"your\", \"yours\", \"yourself\", \"he\", \"him\", \"his\", \"himself\", \n",
    "                           \"she\", \"her\", \"hers\", \"herself\", \"it\", \"its\", \"itself\", \"we\", \"us\", \"our\", \"ours\", \"ourselves\", \n",
    "                           \"they\", \"them\", \"their\", \"theirs\", \"themselves\"]:\n",
    "            pos = \"PRP\"\n",
    "        elif word.endswith(\"ed\"):\n",
    "            pos = \"VBD\" # Verb, Past Tense\n",
    "        elif word.lower() in [\"a\", \"an\", \"the\"]:\n",
    "            pos = \"DT\" \n",
    "        elif word.isnumeric():\n",
    "            pos = \"CD\" # Cardinal Digit\n",
    "        elif word.endswith(\"er\") or word.endswith(\"est\"):\n",
    "            pos = \"JJ\" #adjective\n",
    "        else:\n",
    "            pos = \"NN\" # Noun, singular or mass (default)\n",
    "\n",
    "        tagged_words.append((word, pos))\n",
    "\n",
    "    return tagged_words\n",
    "\n",
    "\n",
    "text = '''Then took the other, as just as fair,\n",
    "And having perhaps the better claim,\n",
    "Because it was grassy and wanted wear;\n",
    "Though as for that the passing there\n",
    "Had worn them really about the same'''\n",
    "\n",
    "\n",
    "#text = \"I saw her at the park. She said it was hers.\"\n",
    "\n",
    "tagged_text = pos_tag(text)\n",
    "\n",
    "for word, pos in tagged_text:\n",
    "    print(f\"{word}/{pos}\", end=\" \")"
   ]
  },
  {
   "cell_type": "code",
   "execution_count": null,
   "id": "8ae98dd5",
   "metadata": {},
   "outputs": [],
   "source": []
  }
 ],
 "metadata": {
  "kernelspec": {
   "display_name": "Python 3 (ipykernel)",
   "language": "python",
   "name": "python3"
  },
  "language_info": {
   "codemirror_mode": {
    "name": "ipython",
    "version": 3
   },
   "file_extension": ".py",
   "mimetype": "text/x-python",
   "name": "python",
   "nbconvert_exporter": "python",
   "pygments_lexer": "ipython3",
   "version": "3.9.13"
  }
 },
 "nbformat": 4,
 "nbformat_minor": 5
}
